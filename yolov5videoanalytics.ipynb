{
 "cells": [
  {
   "cell_type": "markdown",
   "id": "bbf2bd90",
   "metadata": {},
   "source": [
    "# Goal\n",
    "\n",
    "Using ML algorithms such as transfer learing and Open CV Computer Vision to identify the objects in the video and build KPI metrics"
   ]
  },
  {
   "cell_type": "markdown",
   "id": "6f935253",
   "metadata": {},
   "source": [
    "## Steps:\n",
    "1. Install and Import Dependencies\n",
    "2. Load the model\n",
    "3. Once we achieve the accuracy and performance - Create a docker which can be deployed to cloud platform - AWS, Azure or Google\n",
    "4. Save it to the database\n",
    "5. Create a dashboard with KPI metrics"
   ]
  },
  {
   "cell_type": "markdown",
   "id": "ce7702da",
   "metadata": {},
   "source": [
    "## 1. Install and Import Dependencies"
   ]
  },
  {
   "cell_type": "code",
   "execution_count": 1,
   "id": "b4b6a6f0",
   "metadata": {},
   "outputs": [
    {
     "name": "stdout",
     "output_type": "stream",
     "text": [
      "/home/srinu/video-analytics/yolov5\n",
      "Note: you may need to restart the kernel to use updated packages.\n"
     ]
    }
   ],
   "source": [
    "#!git clone https://github.com/ultralytics/yolov5  # clone\n",
    "%cd yolov5\n",
    "%pip install -qr requirements.txt  # install"
   ]
  },
  {
   "cell_type": "code",
   "execution_count": 2,
   "id": "a009529a",
   "metadata": {},
   "outputs": [
    {
     "name": "stderr",
     "output_type": "stream",
     "text": [
      "YOLOv5 🚀 v6.1-51-g9cd89b7 torch 1.11.0 CPU\n"
     ]
    },
    {
     "name": "stdout",
     "output_type": "stream",
     "text": [
      "Setup complete ✅ (12 CPUs, 62.5 GB RAM, 609.5/1828.6 GB disk)\n"
     ]
    }
   ],
   "source": [
    "import torch\n",
    "from yolov5 import utils\n",
    "display = utils.notebook_init()  # checks"
   ]
  },
  {
   "cell_type": "code",
   "execution_count": 3,
   "id": "ff9d99d8",
   "metadata": {},
   "outputs": [],
   "source": [
    "from matplotlib import pyplot as plt\n",
    "import numpy as np\n",
    "import cv2"
   ]
  },
  {
   "cell_type": "markdown",
   "id": "2c152e91",
   "metadata": {},
   "source": [
    "# 2. Validate"
   ]
  },
  {
   "cell_type": "markdown",
   "id": "888b51a8",
   "metadata": {},
   "source": [
    "## COCO Test"
   ]
  },
  {
   "cell_type": "code",
   "execution_count": 4,
   "id": "aafba4ac",
   "metadata": {},
   "outputs": [
    {
     "data": {
      "application/vnd.jupyter.widget-view+json": {
       "model_id": "2e331b6bf49a4a9bb0fe5bb8e9bab848",
       "version_major": 2,
       "version_minor": 0
      },
      "text/plain": [
       "  0%|          | 0.00/780M [00:00<?, ?B/s]"
      ]
     },
     "metadata": {},
     "output_type": "display_data"
    }
   ],
   "source": [
    "# Download COCO val\n",
    "torch.hub.download_url_to_file('https://ultralytics.com/assets/coco2017val.zip', 'tmp.zip')\n",
    "!unzip -q tmp.zip -d ../datasets && rm tmp.zip"
   ]
  },
  {
   "cell_type": "code",
   "execution_count": 4,
   "id": "07163299",
   "metadata": {},
   "outputs": [
    {
     "name": "stdout",
     "output_type": "stream",
     "text": [
      "\u001b[34m\u001b[1mval: \u001b[0mdata=/home/srinu/video-analytics/yolov5/data/coco.yaml, weights=['yolov5s.pt'], batch_size=32, imgsz=640, conf_thres=0.001, iou_thres=0.65, task=val, device=, workers=8, single_cls=False, augment=False, verbose=False, save_txt=False, save_hybrid=False, save_conf=False, save_json=True, project=runs/val, name=exp, exist_ok=False, half=True, dnn=False\n",
      "YOLOv5 🚀 v6.1-51-g9cd89b7 torch 1.11.0 CPU\n",
      "\n",
      "Fusing layers... \n",
      "Model Summary: 213 layers, 7225885 parameters, 0 gradients\n",
      "\u001b[34m\u001b[1mval: \u001b[0mScanning '/home/srinu/video-analytics/datasets/coco/val2017.cache' images a\u001b[0m\n",
      "               Class     Images     Labels          P          R     mAP@.5 mAP@\n",
      "                 all       5000      36335      0.651      0.525      0.561      0.361\n",
      "Speed: 0.7ms pre-process, 77.5ms inference, 5.9ms NMS per image at shape (32, 3, 640, 640)\n",
      "\n",
      "Evaluating pycocotools mAP... saving runs/val/exp4/yolov5s_predictions.json...\n",
      "loading annotations into memory...\n",
      "Done (t=0.27s)\n",
      "creating index...\n",
      "index created!\n",
      "Loading and preparing results...\n",
      "DONE (t=5.03s)\n",
      "creating index...\n",
      "index created!\n",
      "Running per image evaluation...\n",
      "Evaluate annotation type *bbox*\n",
      "DONE (t=58.61s).\n",
      "Accumulating evaluation results...\n",
      "DONE (t=10.64s).\n",
      " Average Precision  (AP) @[ IoU=0.50:0.95 | area=   all | maxDets=100 ] = 0.374\n",
      " Average Precision  (AP) @[ IoU=0.50      | area=   all | maxDets=100 ] = 0.568\n",
      " Average Precision  (AP) @[ IoU=0.75      | area=   all | maxDets=100 ] = 0.407\n",
      " Average Precision  (AP) @[ IoU=0.50:0.95 | area= small | maxDets=100 ] = 0.212\n",
      " Average Precision  (AP) @[ IoU=0.50:0.95 | area=medium | maxDets=100 ] = 0.423\n",
      " Average Precision  (AP) @[ IoU=0.50:0.95 | area= large | maxDets=100 ] = 0.490\n",
      " Average Recall     (AR) @[ IoU=0.50:0.95 | area=   all | maxDets=  1 ] = 0.311\n",
      " Average Recall     (AR) @[ IoU=0.50:0.95 | area=   all | maxDets= 10 ] = 0.519\n",
      " Average Recall     (AR) @[ IoU=0.50:0.95 | area=   all | maxDets=100 ] = 0.575\n",
      " Average Recall     (AR) @[ IoU=0.50:0.95 | area= small | maxDets=100 ] = 0.385\n",
      " Average Recall     (AR) @[ IoU=0.50:0.95 | area=medium | maxDets=100 ] = 0.633\n",
      " Average Recall     (AR) @[ IoU=0.50:0.95 | area= large | maxDets=100 ] = 0.731\n",
      "Results saved to \u001b[1mruns/val/exp4\u001b[0m\n",
      "Exception ignored in: <function StorageWeakRef.__del__ at 0x7f07804cc160>\n",
      "Traceback (most recent call last):\n",
      "  File \"/home/srinu/anaconda3/lib/python3.9/site-packages/torch/multiprocessing/reductions.py\", line 36, in __del__\n",
      "  File \"/home/srinu/anaconda3/lib/python3.9/site-packages/torch/storage.py\", line 520, in _free_weak_ref\n",
      "AttributeError: 'NoneType' object has no attribute '_free_weak_ref'\n",
      "Exception ignored in: <function StorageWeakRef.__del__ at 0x7f07804cc160>\n",
      "Traceback (most recent call last):\n",
      "  File \"/home/srinu/anaconda3/lib/python3.9/site-packages/torch/multiprocessing/reductions.py\", line 36, in __del__\n",
      "  File \"/home/srinu/anaconda3/lib/python3.9/site-packages/torch/storage.py\", line 520, in _free_weak_ref\n",
      "AttributeError: 'NoneType' object has no attribute '_free_weak_ref'\n",
      "Exception ignored in: <function StorageWeakRef.__del__ at 0x7f07804cc160>\n",
      "Traceback (most recent call last):\n",
      "  File \"/home/srinu/anaconda3/lib/python3.9/site-packages/torch/multiprocessing/reductions.py\", line 36, in __del__\n",
      "  File \"/home/srinu/anaconda3/lib/python3.9/site-packages/torch/storage.py\", line 520, in _free_weak_ref\n",
      "AttributeError: 'NoneType' object has no attribute '_free_weak_ref'\n",
      "Exception ignored in: <function StorageWeakRef.__del__ at 0x7f07804cc160>\n",
      "Traceback (most recent call last):\n",
      "  File \"/home/srinu/anaconda3/lib/python3.9/site-packages/torch/multiprocessing/reductions.py\", line 36, in __del__\n",
      "  File \"/home/srinu/anaconda3/lib/python3.9/site-packages/torch/storage.py\", line 520, in _free_weak_ref\n",
      "AttributeError: 'NoneType' object has no attribute '_free_weak_ref'\n",
      "Exception ignored in: <function StorageWeakRef.__del__ at 0x7f07804cc160>\n",
      "Traceback (most recent call last):\n",
      "  File \"/home/srinu/anaconda3/lib/python3.9/site-packages/torch/multiprocessing/reductions.py\", line 36, in __del__\n",
      "  File \"/home/srinu/anaconda3/lib/python3.9/site-packages/torch/storage.py\", line 520, in _free_weak_ref\n",
      "AttributeError: 'NoneType' object has no attribute '_free_weak_ref'\n",
      "Exception ignored in: <function StorageWeakRef.__del__ at 0x7f07804cc160>\n",
      "Traceback (most recent call last):\n",
      "  File \"/home/srinu/anaconda3/lib/python3.9/site-packages/torch/multiprocessing/reductions.py\", line 36, in __del__\n",
      "  File \"/home/srinu/anaconda3/lib/python3.9/site-packages/torch/storage.py\", line 520, in _free_weak_ref\n",
      "AttributeError: 'NoneType' object has no attribute '_free_weak_ref'\n",
      "Exception ignored in: <function StorageWeakRef.__del__ at 0x7f07804cc160>\n",
      "Traceback (most recent call last):\n",
      "  File \"/home/srinu/anaconda3/lib/python3.9/site-packages/torch/multiprocessing/reductions.py\", line 36, in __del__\n",
      "  File \"/home/srinu/anaconda3/lib/python3.9/site-packages/torch/storage.py\", line 520, in _free_weak_ref\n",
      "AttributeError: 'NoneType' object has no attribute '_free_weak_ref'\n",
      "Exception ignored in: <function StorageWeakRef.__del__ at 0x7f07804cc160>\n",
      "Traceback (most recent call last):\n",
      "  File \"/home/srinu/anaconda3/lib/python3.9/site-packages/torch/multiprocessing/reductions.py\", line 36, in __del__\n",
      "  File \"/home/srinu/anaconda3/lib/python3.9/site-packages/torch/storage.py\", line 520, in _free_weak_ref\n",
      "AttributeError: 'NoneType' object has no attribute '_free_weak_ref'\n",
      "Exception ignored in: <function StorageWeakRef.__del__ at 0x7f07804cc160>\n",
      "Traceback (most recent call last):\n",
      "  File \"/home/srinu/anaconda3/lib/python3.9/site-packages/torch/multiprocessing/reductions.py\", line 36, in __del__\n",
      "  File \"/home/srinu/anaconda3/lib/python3.9/site-packages/torch/storage.py\", line 520, in _free_weak_ref\n",
      "AttributeError: 'NoneType' object has no attribute '_free_weak_ref'\n",
      "Exception ignored in: <function StorageWeakRef.__del__ at 0x7f07804cc160>\n",
      "Traceback (most recent call last):\n",
      "  File \"/home/srinu/anaconda3/lib/python3.9/site-packages/torch/multiprocessing/reductions.py\", line 36, in __del__\n",
      "  File \"/home/srinu/anaconda3/lib/python3.9/site-packages/torch/storage.py\", line 520, in _free_weak_ref\n",
      "AttributeError: 'NoneType' object has no attribute '_free_weak_ref'\n",
      "Exception ignored in: <function StorageWeakRef.__del__ at 0x7f07804cc160>\n",
      "Traceback (most recent call last):\n",
      "  File \"/home/srinu/anaconda3/lib/python3.9/site-packages/torch/multiprocessing/reductions.py\", line 36, in __del__\n",
      "  File \"/home/srinu/anaconda3/lib/python3.9/site-packages/torch/storage.py\", line 520, in _free_weak_ref\n",
      "AttributeError: 'NoneType' object has no attribute '_free_weak_ref'\n",
      "Exception ignored in: <function StorageWeakRef.__del__ at 0x7f07804cc160>\n",
      "Traceback (most recent call last):\n",
      "  File \"/home/srinu/anaconda3/lib/python3.9/site-packages/torch/multiprocessing/reductions.py\", line 36, in __del__\n",
      "  File \"/home/srinu/anaconda3/lib/python3.9/site-packages/torch/storage.py\", line 520, in _free_weak_ref\n",
      "AttributeError: 'NoneType' object has no attribute '_free_weak_ref'\n",
      "Exception ignored in: <function StorageWeakRef.__del__ at 0x7f07804cc160>\n",
      "Traceback (most recent call last):\n",
      "  File \"/home/srinu/anaconda3/lib/python3.9/site-packages/torch/multiprocessing/reductions.py\", line 36, in __del__\n",
      "  File \"/home/srinu/anaconda3/lib/python3.9/site-packages/torch/storage.py\", line 520, in _free_weak_ref\n",
      "AttributeError: 'NoneType' object has no attribute '_free_weak_ref'\n",
      "Exception ignored in: <function StorageWeakRef.__del__ at 0x7f07804cc160>\n",
      "Traceback (most recent call last):\n",
      "  File \"/home/srinu/anaconda3/lib/python3.9/site-packages/torch/multiprocessing/reductions.py\", line 36, in __del__\n",
      "  File \"/home/srinu/anaconda3/lib/python3.9/site-packages/torch/storage.py\", line 520, in _free_weak_ref\n",
      "AttributeError: 'NoneType' object has no attribute '_free_weak_ref'\n",
      "Exception ignored in: <function StorageWeakRef.__del__ at 0x7f07804cc160>\n",
      "Traceback (most recent call last):\n",
      "  File \"/home/srinu/anaconda3/lib/python3.9/site-packages/torch/multiprocessing/reductions.py\", line 36, in __del__\n",
      "  File \"/home/srinu/anaconda3/lib/python3.9/site-packages/torch/storage.py\", line 520, in _free_weak_ref\n",
      "AttributeError: 'NoneType' object has no attribute '_free_weak_ref'\n",
      "Exception ignored in: <function StorageWeakRef.__del__ at 0x7f07804cc160>\n",
      "Traceback (most recent call last):\n",
      "  File \"/home/srinu/anaconda3/lib/python3.9/site-packages/torch/multiprocessing/reductions.py\", line 36, in __del__\n",
      "  File \"/home/srinu/anaconda3/lib/python3.9/site-packages/torch/storage.py\", line 520, in _free_weak_ref\n",
      "AttributeError: 'NoneType' object has no attribute '_free_weak_ref'\n",
      "Exception ignored in: <function StorageWeakRef.__del__ at 0x7f07804cc160>\n",
      "Traceback (most recent call last):\n",
      "  File \"/home/srinu/anaconda3/lib/python3.9/site-packages/torch/multiprocessing/reductions.py\", line 36, in __del__\n",
      "  File \"/home/srinu/anaconda3/lib/python3.9/site-packages/torch/storage.py\", line 520, in _free_weak_ref\n",
      "AttributeError: 'NoneType' object has no attribute '_free_weak_ref'\n",
      "Exception ignored in: <function StorageWeakRef.__del__ at 0x7f07804cc160>\n",
      "Traceback (most recent call last):\n",
      "  File \"/home/srinu/anaconda3/lib/python3.9/site-packages/torch/multiprocessing/reductions.py\", line 36, in __del__\n",
      "  File \"/home/srinu/anaconda3/lib/python3.9/site-packages/torch/storage.py\", line 520, in _free_weak_ref\n",
      "AttributeError: 'NoneType' object has no attribute '_free_weak_ref'\n",
      "Exception ignored in: <function StorageWeakRef.__del__ at 0x7f07804cc160>\n",
      "Traceback (most recent call last):\n",
      "  File \"/home/srinu/anaconda3/lib/python3.9/site-packages/torch/multiprocessing/reductions.py\", line 36, in __del__\n",
      "  File \"/home/srinu/anaconda3/lib/python3.9/site-packages/torch/storage.py\", line 520, in _free_weak_ref\n",
      "AttributeError: 'NoneType' object has no attribute '_free_weak_ref'\n",
      "Exception ignored in: <function StorageWeakRef.__del__ at 0x7f07804cc160>\n",
      "Traceback (most recent call last):\n",
      "  File \"/home/srinu/anaconda3/lib/python3.9/site-packages/torch/multiprocessing/reductions.py\", line 36, in __del__\n",
      "  File \"/home/srinu/anaconda3/lib/python3.9/site-packages/torch/storage.py\", line 520, in _free_weak_ref\n",
      "AttributeError: 'NoneType' object has no attribute '_free_weak_ref'\n",
      "Exception ignored in: <function StorageWeakRef.__del__ at 0x7f07804cc160>\n",
      "Traceback (most recent call last):\n",
      "  File \"/home/srinu/anaconda3/lib/python3.9/site-packages/torch/multiprocessing/reductions.py\", line 36, in __del__\n",
      "  File \"/home/srinu/anaconda3/lib/python3.9/site-packages/torch/storage.py\", line 520, in _free_weak_ref\n",
      "AttributeError: 'NoneType' object has no attribute '_free_weak_ref'\n",
      "Exception ignored in: <function StorageWeakRef.__del__ at 0x7f07804cc160>\n",
      "Traceback (most recent call last):\n",
      "  File \"/home/srinu/anaconda3/lib/python3.9/site-packages/torch/multiprocessing/reductions.py\", line 36, in __del__\n",
      "  File \"/home/srinu/anaconda3/lib/python3.9/site-packages/torch/storage.py\", line 520, in _free_weak_ref\n",
      "AttributeError: 'NoneType' object has no attribute '_free_weak_ref'\n",
      "Exception ignored in: <function StorageWeakRef.__del__ at 0x7f07804cc160>\n",
      "Traceback (most recent call last):\n",
      "  File \"/home/srinu/anaconda3/lib/python3.9/site-packages/torch/multiprocessing/reductions.py\", line 36, in __del__\n",
      "  File \"/home/srinu/anaconda3/lib/python3.9/site-packages/torch/storage.py\", line 520, in _free_weak_ref\n",
      "AttributeError: 'NoneType' object has no attribute '_free_weak_ref'\n",
      "Exception ignored in: <function StorageWeakRef.__del__ at 0x7f07804cc160>\n",
      "Traceback (most recent call last):\n",
      "  File \"/home/srinu/anaconda3/lib/python3.9/site-packages/torch/multiprocessing/reductions.py\", line 36, in __del__\n",
      "  File \"/home/srinu/anaconda3/lib/python3.9/site-packages/torch/storage.py\", line 520, in _free_weak_ref\n",
      "AttributeError: 'NoneType' object has no attribute '_free_weak_ref'\n",
      "Exception ignored in: <function StorageWeakRef.__del__ at 0x7f07804cc160>\n",
      "Traceback (most recent call last):\n",
      "  File \"/home/srinu/anaconda3/lib/python3.9/site-packages/torch/multiprocessing/reductions.py\", line 36, in __del__\n",
      "  File \"/home/srinu/anaconda3/lib/python3.9/site-packages/torch/storage.py\", line 520, in _free_weak_ref\n",
      "AttributeError: 'NoneType' object has no attribute '_free_weak_ref'\n",
      "Exception ignored in: <function StorageWeakRef.__del__ at 0x7f07804cc160>\n",
      "Traceback (most recent call last):\n",
      "  File \"/home/srinu/anaconda3/lib/python3.9/site-packages/torch/multiprocessing/reductions.py\", line 36, in __del__\n",
      "  File \"/home/srinu/anaconda3/lib/python3.9/site-packages/torch/storage.py\", line 520, in _free_weak_ref\n",
      "AttributeError: 'NoneType' object has no attribute '_free_weak_ref'\n",
      "Exception ignored in: <function StorageWeakRef.__del__ at 0x7f07804cc160>\n",
      "Traceback (most recent call last):\n",
      "  File \"/home/srinu/anaconda3/lib/python3.9/site-packages/torch/multiprocessing/reductions.py\", line 36, in __del__\n",
      "  File \"/home/srinu/anaconda3/lib/python3.9/site-packages/torch/storage.py\", line 520, in _free_weak_ref\n",
      "AttributeError: 'NoneType' object has no attribute '_free_weak_ref'\n",
      "Exception ignored in: <function StorageWeakRef.__del__ at 0x7f07804cc160>\n",
      "Traceback (most recent call last):\n",
      "  File \"/home/srinu/anaconda3/lib/python3.9/site-packages/torch/multiprocessing/reductions.py\", line 36, in __del__\n",
      "  File \"/home/srinu/anaconda3/lib/python3.9/site-packages/torch/storage.py\", line 520, in _free_weak_ref\n",
      "AttributeError: 'NoneType' object has no attribute '_free_weak_ref'\n",
      "Exception ignored in: <function StorageWeakRef.__del__ at 0x7f07804cc160>\n",
      "Traceback (most recent call last):\n",
      "  File \"/home/srinu/anaconda3/lib/python3.9/site-packages/torch/multiprocessing/reductions.py\", line 36, in __del__\n",
      "  File \"/home/srinu/anaconda3/lib/python3.9/site-packages/torch/storage.py\", line 520, in _free_weak_ref\n",
      "AttributeError: 'NoneType' object has no attribute '_free_weak_ref'\n",
      "Exception ignored in: <function StorageWeakRef.__del__ at 0x7f07804cc160>\n",
      "Traceback (most recent call last):\n",
      "  File \"/home/srinu/anaconda3/lib/python3.9/site-packages/torch/multiprocessing/reductions.py\", line 36, in __del__\n",
      "  File \"/home/srinu/anaconda3/lib/python3.9/site-packages/torch/storage.py\", line 520, in _free_weak_ref\n",
      "AttributeError: 'NoneType' object has no attribute '_free_weak_ref'\n",
      "Exception ignored in: <function StorageWeakRef.__del__ at 0x7f07804cc160>\n",
      "Traceback (most recent call last):\n",
      "  File \"/home/srinu/anaconda3/lib/python3.9/site-packages/torch/multiprocessing/reductions.py\", line 36, in __del__\n",
      "  File \"/home/srinu/anaconda3/lib/python3.9/site-packages/torch/storage.py\", line 520, in _free_weak_ref\n",
      "AttributeError: 'NoneType' object has no attribute '_free_weak_ref'\n",
      "Exception ignored in: <function StorageWeakRef.__del__ at 0x7f07804cc160>\n",
      "Traceback (most recent call last):\n",
      "  File \"/home/srinu/anaconda3/lib/python3.9/site-packages/torch/multiprocessing/reductions.py\", line 36, in __del__\n",
      "  File \"/home/srinu/anaconda3/lib/python3.9/site-packages/torch/storage.py\", line 520, in _free_weak_ref\n",
      "AttributeError: 'NoneType' object has no attribute '_free_weak_ref'\n",
      "Exception ignored in: <function StorageWeakRef.__del__ at 0x7f07804cc160>\n",
      "Traceback (most recent call last):\n",
      "  File \"/home/srinu/anaconda3/lib/python3.9/site-packages/torch/multiprocessing/reductions.py\", line 36, in __del__\n",
      "  File \"/home/srinu/anaconda3/lib/python3.9/site-packages/torch/storage.py\", line 520, in _free_weak_ref\n",
      "AttributeError: 'NoneType' object has no attribute '_free_weak_ref'\n",
      "Exception ignored in: <function StorageWeakRef.__del__ at 0x7f07804cc160>\n",
      "Traceback (most recent call last):\n",
      "  File \"/home/srinu/anaconda3/lib/python3.9/site-packages/torch/multiprocessing/reductions.py\", line 36, in __del__\n",
      "  File \"/home/srinu/anaconda3/lib/python3.9/site-packages/torch/storage.py\", line 520, in _free_weak_ref\n",
      "AttributeError: 'NoneType' object has no attribute '_free_weak_ref'\n",
      "Exception ignored in: <function StorageWeakRef.__del__ at 0x7f07804cc160>\n",
      "Traceback (most recent call last):\n",
      "  File \"/home/srinu/anaconda3/lib/python3.9/site-packages/torch/multiprocessing/reductions.py\", line 36, in __del__\n",
      "  File \"/home/srinu/anaconda3/lib/python3.9/site-packages/torch/storage.py\", line 520, in _free_weak_ref\n",
      "AttributeError: 'NoneType' object has no attribute '_free_weak_ref'\n",
      "Exception ignored in: <function StorageWeakRef.__del__ at 0x7f07804cc160>\n",
      "Traceback (most recent call last):\n",
      "  File \"/home/srinu/anaconda3/lib/python3.9/site-packages/torch/multiprocessing/reductions.py\", line 36, in __del__\n",
      "  File \"/home/srinu/anaconda3/lib/python3.9/site-packages/torch/storage.py\", line 520, in _free_weak_ref\n",
      "AttributeError: 'NoneType' object has no attribute '_free_weak_ref'\n",
      "Exception ignored in: <function StorageWeakRef.__del__ at 0x7f07804cc160>\n",
      "Traceback (most recent call last):\n",
      "  File \"/home/srinu/anaconda3/lib/python3.9/site-packages/torch/multiprocessing/reductions.py\", line 36, in __del__\n",
      "  File \"/home/srinu/anaconda3/lib/python3.9/site-packages/torch/storage.py\", line 520, in _free_weak_ref\n",
      "AttributeError: 'NoneType' object has no attribute '_free_weak_ref'\n",
      "Exception ignored in: <function StorageWeakRef.__del__ at 0x7f07804cc160>\n",
      "Traceback (most recent call last):\n",
      "  File \"/home/srinu/anaconda3/lib/python3.9/site-packages/torch/multiprocessing/reductions.py\", line 36, in __del__\n",
      "  File \"/home/srinu/anaconda3/lib/python3.9/site-packages/torch/storage.py\", line 520, in _free_weak_ref\n",
      "AttributeError: 'NoneType' object has no attribute '_free_weak_ref'\n",
      "Exception ignored in: <function StorageWeakRef.__del__ at 0x7f07804cc160>\n",
      "Traceback (most recent call last):\n",
      "  File \"/home/srinu/anaconda3/lib/python3.9/site-packages/torch/multiprocessing/reductions.py\", line 36, in __del__\n",
      "  File \"/home/srinu/anaconda3/lib/python3.9/site-packages/torch/storage.py\", line 520, in _free_weak_ref\n",
      "AttributeError: 'NoneType' object has no attribute '_free_weak_ref'\n",
      "Exception ignored in: <function StorageWeakRef.__del__ at 0x7f07804cc160>\n",
      "Traceback (most recent call last):\n",
      "  File \"/home/srinu/anaconda3/lib/python3.9/site-packages/torch/multiprocessing/reductions.py\", line 36, in __del__\n",
      "  File \"/home/srinu/anaconda3/lib/python3.9/site-packages/torch/storage.py\", line 520, in _free_weak_ref\n",
      "AttributeError: 'NoneType' object has no attribute '_free_weak_ref'\n",
      "Exception ignored in: <function StorageWeakRef.__del__ at 0x7f07804cc160>\n",
      "Traceback (most recent call last):\n",
      "  File \"/home/srinu/anaconda3/lib/python3.9/site-packages/torch/multiprocessing/reductions.py\", line 36, in __del__\n",
      "  File \"/home/srinu/anaconda3/lib/python3.9/site-packages/torch/storage.py\", line 520, in _free_weak_ref\n",
      "AttributeError: 'NoneType' object has no attribute '_free_weak_ref'\n",
      "Exception ignored in: <function StorageWeakRef.__del__ at 0x7f07804cc160>\n",
      "Traceback (most recent call last):\n",
      "  File \"/home/srinu/anaconda3/lib/python3.9/site-packages/torch/multiprocessing/reductions.py\", line 36, in __del__\n",
      "  File \"/home/srinu/anaconda3/lib/python3.9/site-packages/torch/storage.py\", line 520, in _free_weak_ref\n",
      "AttributeError: 'NoneType' object has no attribute '_free_weak_ref'\n",
      "Exception ignored in: <function StorageWeakRef.__del__ at 0x7f07804cc160>\n",
      "Traceback (most recent call last):\n",
      "  File \"/home/srinu/anaconda3/lib/python3.9/site-packages/torch/multiprocessing/reductions.py\", line 36, in __del__\n",
      "  File \"/home/srinu/anaconda3/lib/python3.9/site-packages/torch/storage.py\", line 520, in _free_weak_ref\n",
      "AttributeError: 'NoneType' object has no attribute '_free_weak_ref'\n",
      "Exception ignored in: <function StorageWeakRef.__del__ at 0x7f07804cc160>\n",
      "Traceback (most recent call last):\n",
      "  File \"/home/srinu/anaconda3/lib/python3.9/site-packages/torch/multiprocessing/reductions.py\", line 36, in __del__\n",
      "  File \"/home/srinu/anaconda3/lib/python3.9/site-packages/torch/storage.py\", line 520, in _free_weak_ref\n",
      "AttributeError: 'NoneType' object has no attribute '_free_weak_ref'\n",
      "Exception ignored in: <function StorageWeakRef.__del__ at 0x7f07804cc160>\n",
      "Traceback (most recent call last):\n",
      "  File \"/home/srinu/anaconda3/lib/python3.9/site-packages/torch/multiprocessing/reductions.py\", line 36, in __del__\n",
      "  File \"/home/srinu/anaconda3/lib/python3.9/site-packages/torch/storage.py\", line 520, in _free_weak_ref\n",
      "AttributeError: 'NoneType' object has no attribute '_free_weak_ref'\n",
      "Exception ignored in: <function StorageWeakRef.__del__ at 0x7f07804cc160>\n",
      "Traceback (most recent call last):\n",
      "  File \"/home/srinu/anaconda3/lib/python3.9/site-packages/torch/multiprocessing/reductions.py\", line 36, in __del__\n",
      "  File \"/home/srinu/anaconda3/lib/python3.9/site-packages/torch/storage.py\", line 520, in _free_weak_ref\n",
      "AttributeError: 'NoneType' object has no attribute '_free_weak_ref'\n",
      "Exception ignored in: <function StorageWeakRef.__del__ at 0x7f07804cc160>\n",
      "Traceback (most recent call last):\n",
      "  File \"/home/srinu/anaconda3/lib/python3.9/site-packages/torch/multiprocessing/reductions.py\", line 36, in __del__\n",
      "  File \"/home/srinu/anaconda3/lib/python3.9/site-packages/torch/storage.py\", line 520, in _free_weak_ref\n",
      "AttributeError: 'NoneType' object has no attribute '_free_weak_ref'\n",
      "Exception ignored in: <function StorageWeakRef.__del__ at 0x7f07804cc160>\n",
      "Traceback (most recent call last):\n",
      "  File \"/home/srinu/anaconda3/lib/python3.9/site-packages/torch/multiprocessing/reductions.py\", line 36, in __del__\n",
      "  File \"/home/srinu/anaconda3/lib/python3.9/site-packages/torch/storage.py\", line 520, in _free_weak_ref\n",
      "AttributeError: 'NoneType' object has no attribute '_free_weak_ref'\n",
      "Exception ignored in: <function StorageWeakRef.__del__ at 0x7f07804cc160>\n",
      "Traceback (most recent call last):\n",
      "  File \"/home/srinu/anaconda3/lib/python3.9/site-packages/torch/multiprocessing/reductions.py\", line 36, in __del__\n",
      "  File \"/home/srinu/anaconda3/lib/python3.9/site-packages/torch/storage.py\", line 520, in _free_weak_ref\n",
      "AttributeError: 'NoneType' object has no attribute '_free_weak_ref'\n",
      "Exception ignored in: <function StorageWeakRef.__del__ at 0x7f07804cc160>\n",
      "Traceback (most recent call last):\n",
      "  File \"/home/srinu/anaconda3/lib/python3.9/site-packages/torch/multiprocessing/reductions.py\", line 36, in __del__\n",
      "  File \"/home/srinu/anaconda3/lib/python3.9/site-packages/torch/storage.py\", line 520, in _free_weak_ref\n",
      "AttributeError: 'NoneType' object has no attribute '_free_weak_ref'\n",
      "Exception ignored in: <function StorageWeakRef.__del__ at 0x7f07804cc160>\n",
      "Traceback (most recent call last):\n",
      "  File \"/home/srinu/anaconda3/lib/python3.9/site-packages/torch/multiprocessing/reductions.py\", line 36, in __del__\n",
      "  File \"/home/srinu/anaconda3/lib/python3.9/site-packages/torch/storage.py\", line 520, in _free_weak_ref\n",
      "AttributeError: 'NoneType' object has no attribute '_free_weak_ref'\n",
      "Exception ignored in: <function StorageWeakRef.__del__ at 0x7f07804cc160>\n",
      "Traceback (most recent call last):\n",
      "  File \"/home/srinu/anaconda3/lib/python3.9/site-packages/torch/multiprocessing/reductions.py\", line 36, in __del__\n",
      "  File \"/home/srinu/anaconda3/lib/python3.9/site-packages/torch/storage.py\", line 520, in _free_weak_ref\n",
      "AttributeError: 'NoneType' object has no attribute '_free_weak_ref'\n",
      "Exception ignored in: <function StorageWeakRef.__del__ at 0x7f07804cc160>\n",
      "Traceback (most recent call last):\n",
      "  File \"/home/srinu/anaconda3/lib/python3.9/site-packages/torch/multiprocessing/reductions.py\", line 36, in __del__\n",
      "  File \"/home/srinu/anaconda3/lib/python3.9/site-packages/torch/storage.py\", line 520, in _free_weak_ref\n",
      "AttributeError: 'NoneType' object has no attribute '_free_weak_ref'\n",
      "Exception ignored in: <function StorageWeakRef.__del__ at 0x7f07804cc160>\n",
      "Traceback (most recent call last):\n",
      "  File \"/home/srinu/anaconda3/lib/python3.9/site-packages/torch/multiprocessing/reductions.py\", line 36, in __del__\n",
      "  File \"/home/srinu/anaconda3/lib/python3.9/site-packages/torch/storage.py\", line 520, in _free_weak_ref\n",
      "AttributeError: 'NoneType' object has no attribute '_free_weak_ref'\n",
      "Exception ignored in: <function StorageWeakRef.__del__ at 0x7f07804cc160>\n",
      "Traceback (most recent call last):\n",
      "  File \"/home/srinu/anaconda3/lib/python3.9/site-packages/torch/multiprocessing/reductions.py\", line 36, in __del__\n",
      "  File \"/home/srinu/anaconda3/lib/python3.9/site-packages/torch/storage.py\", line 520, in _free_weak_ref\n",
      "AttributeError: 'NoneType' object has no attribute '_free_weak_ref'\n",
      "Exception ignored in: <function StorageWeakRef.__del__ at 0x7f07804cc160>\n",
      "Traceback (most recent call last):\n",
      "  File \"/home/srinu/anaconda3/lib/python3.9/site-packages/torch/multiprocessing/reductions.py\", line 36, in __del__\n",
      "  File \"/home/srinu/anaconda3/lib/python3.9/site-packages/torch/storage.py\", line 520, in _free_weak_ref\n",
      "AttributeError: 'NoneType' object has no attribute '_free_weak_ref'\n",
      "Exception ignored in: <function StorageWeakRef.__del__ at 0x7f07804cc160>\n",
      "Traceback (most recent call last):\n",
      "  File \"/home/srinu/anaconda3/lib/python3.9/site-packages/torch/multiprocessing/reductions.py\", line 36, in __del__\n",
      "  File \"/home/srinu/anaconda3/lib/python3.9/site-packages/torch/storage.py\", line 520, in _free_weak_ref\n",
      "AttributeError: 'NoneType' object has no attribute '_free_weak_ref'\n",
      "Exception ignored in: <function StorageWeakRef.__del__ at 0x7f07804cc160>\n",
      "Traceback (most recent call last):\n",
      "  File \"/home/srinu/anaconda3/lib/python3.9/site-packages/torch/multiprocessing/reductions.py\", line 36, in __del__\n",
      "  File \"/home/srinu/anaconda3/lib/python3.9/site-packages/torch/storage.py\", line 520, in _free_weak_ref\n",
      "AttributeError: 'NoneType' object has no attribute '_free_weak_ref'\n",
      "Exception ignored in: <function StorageWeakRef.__del__ at 0x7f07804cc160>\n",
      "Traceback (most recent call last):\n",
      "  File \"/home/srinu/anaconda3/lib/python3.9/site-packages/torch/multiprocessing/reductions.py\", line 36, in __del__\n",
      "  File \"/home/srinu/anaconda3/lib/python3.9/site-packages/torch/storage.py\", line 520, in _free_weak_ref\n",
      "AttributeError: 'NoneType' object has no attribute '_free_weak_ref'\n",
      "Exception ignored in: <function StorageWeakRef.__del__ at 0x7f07804cc160>\n",
      "Traceback (most recent call last):\n",
      "  File \"/home/srinu/anaconda3/lib/python3.9/site-packages/torch/multiprocessing/reductions.py\", line 36, in __del__\n",
      "  File \"/home/srinu/anaconda3/lib/python3.9/site-packages/torch/storage.py\", line 520, in _free_weak_ref\n",
      "AttributeError: 'NoneType' object has no attribute '_free_weak_ref'\n",
      "Exception ignored in: <function StorageWeakRef.__del__ at 0x7f07804cc160>\n",
      "Traceback (most recent call last):\n",
      "  File \"/home/srinu/anaconda3/lib/python3.9/site-packages/torch/multiprocessing/reductions.py\", line 36, in __del__\n",
      "  File \"/home/srinu/anaconda3/lib/python3.9/site-packages/torch/storage.py\", line 520, in _free_weak_ref\n",
      "AttributeError: 'NoneType' object has no attribute '_free_weak_ref'\n",
      "Exception ignored in: <function StorageWeakRef.__del__ at 0x7f07804cc160>\n",
      "Traceback (most recent call last):\n",
      "  File \"/home/srinu/anaconda3/lib/python3.9/site-packages/torch/multiprocessing/reductions.py\", line 36, in __del__\n",
      "  File \"/home/srinu/anaconda3/lib/python3.9/site-packages/torch/storage.py\", line 520, in _free_weak_ref\n",
      "AttributeError: 'NoneType' object has no attribute '_free_weak_ref'\n"
     ]
    }
   ],
   "source": [
    "# Run YOLOv5x on COCO val\n",
    "!python3 val.py --weights yolov5s.pt --data coco.yaml --img 640 --iou 0.65 --half"
   ]
  },
  {
   "cell_type": "markdown",
   "id": "9f0bf919",
   "metadata": {},
   "source": [
    "# 3. Train"
   ]
  },
  {
   "cell_type": "code",
   "execution_count": 5,
   "id": "107c5c04",
   "metadata": {},
   "outputs": [
    {
     "data": {
      "text/html": [
       "\n",
       "      <iframe id=\"tensorboard-frame-7a62d0e24e136aed\" width=\"100%\" height=\"800\" frameborder=\"0\">\n",
       "      </iframe>\n",
       "      <script>\n",
       "        (function() {\n",
       "          const frame = document.getElementById(\"tensorboard-frame-7a62d0e24e136aed\");\n",
       "          const url = new URL(\"/\", window.location);\n",
       "          const port = 6006;\n",
       "          if (port) {\n",
       "            url.port = port;\n",
       "          }\n",
       "          frame.src = url;\n",
       "        })();\n",
       "      </script>\n",
       "    "
      ],
      "text/plain": [
       "<IPython.core.display.HTML object>"
      ]
     },
     "metadata": {},
     "output_type": "display_data"
    }
   ],
   "source": [
    "# Tensorboard  (optional)\n",
    "%load_ext tensorboard\n",
    "%tensorboard --logdir runs/train"
   ]
  },
  {
   "cell_type": "code",
   "execution_count": null,
   "id": "a335ad1d",
   "metadata": {},
   "outputs": [
    {
     "name": "stdout",
     "output_type": "stream",
     "text": [
      "Note: you may need to restart the kernel to use updated packages.\n"
     ]
    }
   ],
   "source": [
    "# Weights & Biases  (optional)\n",
    "%pip install -q wandb\n",
    "import wandb\n",
    "wandb.login()"
   ]
  },
  {
   "cell_type": "code",
   "execution_count": null,
   "id": "cf2cb85e",
   "metadata": {},
   "outputs": [],
   "source": [
    "# Train YOLOv5s on COCO128 for 3 epochs\n",
    "!python train.py --img 640 --batch 16 --epochs 10 --data coco128.yaml --weights yolov5s.pt --cache"
   ]
  },
  {
   "cell_type": "markdown",
   "id": "1f489e76",
   "metadata": {},
   "source": [
    "# 4. Visualize"
   ]
  },
  {
   "cell_type": "code",
   "execution_count": null,
   "id": "e209f9c1",
   "metadata": {},
   "outputs": [],
   "source": [
    "from utils.plots import plot_results \n",
    "plot_results('runs/train/exp/results.csv')  # plot 'results.csv' as 'results.png'"
   ]
  },
  {
   "cell_type": "markdown",
   "id": "cfc75636",
   "metadata": {},
   "source": [
    "# 5. Test"
   ]
  },
  {
   "cell_type": "code",
   "execution_count": null,
   "id": "ad8c43fc",
   "metadata": {},
   "outputs": [],
   "source": [
    "# Detect only people\n",
    "!python detect.py --weights yolov5s.pt --img 640 --conf 0.25 --classes 0 --source ../data/VIRAT_S_010002_01_000123_000148.mp4"
   ]
  }
 ],
 "metadata": {
  "kernelspec": {
   "display_name": "Python 3 (ipykernel)",
   "language": "python",
   "name": "python3"
  },
  "language_info": {
   "codemirror_mode": {
    "name": "ipython",
    "version": 3
   },
   "file_extension": ".py",
   "mimetype": "text/x-python",
   "name": "python",
   "nbconvert_exporter": "python",
   "pygments_lexer": "ipython3",
   "version": "3.9.7"
  }
 },
 "nbformat": 4,
 "nbformat_minor": 5
}
